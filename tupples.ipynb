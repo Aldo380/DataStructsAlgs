{
  "nbformat": 4,
  "nbformat_minor": 0,
  "metadata": {
    "colab": {
      "provenance": [],
      "include_colab_link": true
    },
    "kernelspec": {
      "name": "python3",
      "display_name": "Python 3"
    },
    "language_info": {
      "name": "python"
    }
  },
  "cells": [
    {
      "cell_type": "markdown",
      "metadata": {
        "id": "view-in-github",
        "colab_type": "text"
      },
      "source": [
        "<a href=\"https://colab.research.google.com/github/Aldo380/DataStructsAlgs/blob/main/tupples.ipynb\" target=\"_parent\"><img src=\"https://colab.research.google.com/assets/colab-badge.svg\" alt=\"Open In Colab\"/></a>"
      ]
    },
    {
      "cell_type": "markdown",
      "source": [
        "##Tuples"
      ],
      "metadata": {
        "id": "I7VoNASAwwdX"
      }
    },
    {
      "cell_type": "code",
      "source": [
        "t = (1,2,3)"
      ],
      "metadata": {
        "id": "Z8muWkjQxU6s"
      },
      "execution_count": 4,
      "outputs": []
    },
    {
      "cell_type": "code",
      "source": [
        "mylist = [1,2,3]\n"
      ],
      "metadata": {
        "id": "vTQ4c_DXxbDb"
      },
      "execution_count": 5,
      "outputs": []
    },
    {
      "cell_type": "code",
      "source": [
        "type(t)\n"
      ],
      "metadata": {
        "colab": {
          "base_uri": "https://localhost:8080/"
        },
        "id": "kCT9baXjxgKT",
        "outputId": "3365e5a0-f053-4c56-cbb9-8ce67163b48e"
      },
      "execution_count": 6,
      "outputs": [
        {
          "output_type": "execute_result",
          "data": {
            "text/plain": [
              "tuple"
            ]
          },
          "metadata": {},
          "execution_count": 6
        }
      ]
    },
    {
      "cell_type": "code",
      "source": [
        "type(mylist)"
      ],
      "metadata": {
        "colab": {
          "base_uri": "https://localhost:8080/"
        },
        "id": "UO905USFxrMv",
        "outputId": "2c4913cd-4c7c-43da-a3d9-7503cd69e36d"
      },
      "execution_count": 7,
      "outputs": [
        {
          "output_type": "execute_result",
          "data": {
            "text/plain": [
              "list"
            ]
          },
          "metadata": {},
          "execution_count": 7
        }
      ]
    },
    {
      "cell_type": "code",
      "source": [
        "len(t)"
      ],
      "metadata": {
        "colab": {
          "base_uri": "https://localhost:8080/"
        },
        "id": "1Ci6NieixuTl",
        "outputId": "aa7e839d-23f4-49cb-9e1d-c3074de909e7"
      },
      "execution_count": 8,
      "outputs": [
        {
          "output_type": "execute_result",
          "data": {
            "text/plain": [
              "3"
            ]
          },
          "metadata": {},
          "execution_count": 8
        }
      ]
    },
    {
      "cell_type": "code",
      "source": [
        "t[0]"
      ],
      "metadata": {
        "colab": {
          "base_uri": "https://localhost:8080/"
        },
        "id": "FtId_dCUxyVA",
        "outputId": "3927f40d-6000-489b-aa84-e97316c0a43b"
      },
      "execution_count": 9,
      "outputs": [
        {
          "output_type": "execute_result",
          "data": {
            "text/plain": [
              "1"
            ]
          },
          "metadata": {},
          "execution_count": 9
        }
      ]
    },
    {
      "cell_type": "code",
      "source": [
        "t[-1]"
      ],
      "metadata": {
        "colab": {
          "base_uri": "https://localhost:8080/"
        },
        "id": "DT9-nQtnx5s0",
        "outputId": "85fc933c-95e4-4261-e49d-1e0851885808"
      },
      "execution_count": 10,
      "outputs": [
        {
          "output_type": "execute_result",
          "data": {
            "text/plain": [
              "3"
            ]
          },
          "metadata": {},
          "execution_count": 10
        }
      ]
    },
    {
      "cell_type": "code",
      "source": [
        "t = (\"a\", \"a\", \"b\")\n"
      ],
      "metadata": {
        "id": "0vCckUPmx80r"
      },
      "execution_count": 11,
      "outputs": []
    },
    {
      "cell_type": "code",
      "source": [
        "t.count(\"a\")"
      ],
      "metadata": {
        "colab": {
          "base_uri": "https://localhost:8080/"
        },
        "id": "a4NRcMoAyEuo",
        "outputId": "1b3c2c18-0287-42f5-83cf-6d1ec4501155"
      },
      "execution_count": 12,
      "outputs": [
        {
          "output_type": "execute_result",
          "data": {
            "text/plain": [
              "2"
            ]
          },
          "metadata": {},
          "execution_count": 12
        }
      ]
    },
    {
      "cell_type": "code",
      "source": [
        "t.index(\"a\")"
      ],
      "metadata": {
        "colab": {
          "base_uri": "https://localhost:8080/"
        },
        "id": "F0MANxDxyJOY",
        "outputId": "92a61ace-d274-4516-c042-0883ad956a44"
      },
      "execution_count": 13,
      "outputs": [
        {
          "output_type": "execute_result",
          "data": {
            "text/plain": [
              "0"
            ]
          },
          "metadata": {},
          "execution_count": 13
        }
      ]
    },
    {
      "cell_type": "markdown",
      "source": [
        "##Mutability"
      ],
      "metadata": {
        "id": "rxCA-7TRySP_"
      }
    },
    {
      "cell_type": "code",
      "source": [
        "mylist"
      ],
      "metadata": {
        "colab": {
          "base_uri": "https://localhost:8080/"
        },
        "id": "2YAxbN68yUUR",
        "outputId": "6471408b-e300-4e6d-faf2-32f460391499"
      },
      "execution_count": 14,
      "outputs": [
        {
          "output_type": "execute_result",
          "data": {
            "text/plain": [
              "[1, 2, 3]"
            ]
          },
          "metadata": {},
          "execution_count": 14
        }
      ]
    },
    {
      "cell_type": "code",
      "source": [
        "t[0] = \"hi\""
      ],
      "metadata": {
        "colab": {
          "base_uri": "https://localhost:8080/",
          "height": 141
        },
        "id": "9rNg9MRPyY6N",
        "outputId": "e2c72b98-27bc-4d1f-8df3-e079df078a9e"
      },
      "execution_count": 15,
      "outputs": [
        {
          "output_type": "error",
          "ename": "TypeError",
          "evalue": "'tuple' object does not support item assignment",
          "traceback": [
            "\u001b[0;31m---------------------------------------------------------------------------\u001b[0m",
            "\u001b[0;31mTypeError\u001b[0m                                 Traceback (most recent call last)",
            "\u001b[0;32m<ipython-input-15-5a2d88639c62>\u001b[0m in \u001b[0;36m<cell line: 0>\u001b[0;34m()\u001b[0m\n\u001b[0;32m----> 1\u001b[0;31m \u001b[0mt\u001b[0m\u001b[0;34m[\u001b[0m\u001b[0;36m0\u001b[0m\u001b[0;34m]\u001b[0m \u001b[0;34m=\u001b[0m \u001b[0;34m\"hi\"\u001b[0m\u001b[0;34m\u001b[0m\u001b[0;34m\u001b[0m\u001b[0m\n\u001b[0m",
            "\u001b[0;31mTypeError\u001b[0m: 'tuple' object does not support item assignment"
          ]
        }
      ]
    },
    {
      "cell_type": "markdown",
      "source": [
        "##Sets"
      ],
      "metadata": {
        "id": "dgLOpaSo-7o0"
      }
    },
    {
      "cell_type": "code",
      "source": [
        "mySet= set()"
      ],
      "metadata": {
        "id": "xlpfOj_B_FoG"
      },
      "execution_count": 16,
      "outputs": []
    },
    {
      "cell_type": "code",
      "source": [
        "mySet.add(2)"
      ],
      "metadata": {
        "id": "ZmLhxBVVjUUO"
      },
      "execution_count": 17,
      "outputs": []
    },
    {
      "cell_type": "code",
      "source": [
        "mySet"
      ],
      "metadata": {
        "colab": {
          "base_uri": "https://localhost:8080/"
        },
        "id": "yxDe9kUQjc1c",
        "outputId": "fb01a3df-e33d-4dce-eef7-8f5ae88d3708"
      },
      "execution_count": 18,
      "outputs": [
        {
          "output_type": "execute_result",
          "data": {
            "text/plain": [
              "{2}"
            ]
          },
          "metadata": {},
          "execution_count": 18
        }
      ]
    },
    {
      "cell_type": "code",
      "source": [
        "mySet.add(3)"
      ],
      "metadata": {
        "id": "a1KjoJEIjkT9"
      },
      "execution_count": 19,
      "outputs": []
    },
    {
      "cell_type": "code",
      "source": [
        "mySet"
      ],
      "metadata": {
        "colab": {
          "base_uri": "https://localhost:8080/"
        },
        "id": "Y9uonVZIjpPA",
        "outputId": "cd7bd54b-aa46-4e87-f416-72050bb4dcd2"
      },
      "execution_count": 20,
      "outputs": [
        {
          "output_type": "execute_result",
          "data": {
            "text/plain": [
              "{2, 3}"
            ]
          },
          "metadata": {},
          "execution_count": 20
        }
      ]
    },
    {
      "cell_type": "code",
      "source": [
        "mylist = [1,1,1,1,1,2,2,2,3,3,3,3]\n"
      ],
      "metadata": {
        "id": "sFTj_x91jvfh"
      },
      "execution_count": 21,
      "outputs": []
    },
    {
      "cell_type": "code",
      "source": [
        "##Converting a list into a set\n",
        "set(mylist)"
      ],
      "metadata": {
        "colab": {
          "base_uri": "https://localhost:8080/"
        },
        "id": "ONgrEUOpkDZi",
        "outputId": "6198b2cb-401d-4027-ecdb-e0323a3e5969"
      },
      "execution_count": 22,
      "outputs": [
        {
          "output_type": "execute_result",
          "data": {
            "text/plain": [
              "{1, 2, 3}"
            ]
          },
          "metadata": {},
          "execution_count": 22
        }
      ]
    },
    {
      "cell_type": "code",
      "source": [
        "##Booleans:\n",
        "##Operators that allows us to convey True or False statements.(important later on when we deal with control flow and logic)"
      ],
      "metadata": {
        "id": "Mk0BCkpLkN7h"
      },
      "execution_count": 23,
      "outputs": []
    },
    {
      "cell_type": "code",
      "source": [
        "True"
      ],
      "metadata": {
        "id": "jBA3wF28k7x8"
      },
      "execution_count": null,
      "outputs": []
    },
    {
      "cell_type": "code",
      "source": [
        "False"
      ],
      "metadata": {
        "id": "UmJI4r4Lk-qH"
      },
      "execution_count": null,
      "outputs": []
    },
    {
      "cell_type": "code",
      "source": [
        "type(False)"
      ],
      "metadata": {
        "id": "Aivw0wf7lA0n"
      },
      "execution_count": null,
      "outputs": []
    },
    {
      "cell_type": "code",
      "source": [
        "12<4"
      ],
      "metadata": {
        "id": "nx4BeARNlH6G"
      },
      "execution_count": null,
      "outputs": []
    },
    {
      "cell_type": "code",
      "source": [
        "b = None"
      ],
      "metadata": {
        "id": "KvbZL4AulUn9"
      },
      "execution_count": null,
      "outputs": []
    },
    {
      "cell_type": "code",
      "source": [
        "##Sets and Booleans; Quiz"
      ],
      "metadata": {
        "id": "KLgyt0BXldb4"
      },
      "execution_count": null,
      "outputs": []
    },
    {
      "cell_type": "code",
      "source": [
        "##{1,2,3,4} is an eample of a Set: True\n",
        "##Adding an element to a set: .add()"
      ],
      "metadata": {
        "id": "keA8-kx9liFp"
      },
      "execution_count": null,
      "outputs": []
    },
    {
      "cell_type": "code",
      "source": [
        "##Result of : set([1,1,2,3]): {1,2,3} cardinality."
      ],
      "metadata": {
        "id": "ZUcazNddmI3E"
      },
      "execution_count": null,
      "outputs": []
    },
    {
      "cell_type": "code",
      "source": [
        "##Writing a quick file:\n",
        "%%writefile myFile.txt\n",
        "Hi there, this is a text file!\n",
        "Second line\n",
        "third line\n",
        "Avoid dilations at all cost."
      ],
      "metadata": {
        "colab": {
          "base_uri": "https://localhost:8080/"
        },
        "id": "XvnlxXfimfkd",
        "outputId": "3caf6780-356f-4356-fe30-0a4599585f1a"
      },
      "execution_count": 24,
      "outputs": [
        {
          "output_type": "stream",
          "name": "stdout",
          "text": [
            "Writing myFile.txt\n"
          ]
        }
      ]
    },
    {
      "cell_type": "code",
      "source": [
        "myfile = open(\"myFile.txt\")\n"
      ],
      "metadata": {
        "id": "alZ1kfOwnSQZ"
      },
      "execution_count": 25,
      "outputs": []
    },
    {
      "cell_type": "code",
      "source": [
        "##Showing off the path:\n",
        "pwd"
      ],
      "metadata": {
        "colab": {
          "base_uri": "https://localhost:8080/",
          "height": 159
        },
        "id": "O-UB0SARnmYQ",
        "outputId": "28c6e4b0-8a44-40a1-fc24-a04e6a02addd"
      },
      "execution_count": 26,
      "outputs": [
        {
          "output_type": "error",
          "ename": "NameError",
          "evalue": "name 'pwd' is not defined",
          "traceback": [
            "\u001b[0;31m---------------------------------------------------------------------------\u001b[0m",
            "\u001b[0;31mNameError\u001b[0m                                 Traceback (most recent call last)",
            "\u001b[0;32m<ipython-input-26-38b2904905f3>\u001b[0m in \u001b[0;36m<cell line: 0>\u001b[0;34m()\u001b[0m\n\u001b[1;32m      1\u001b[0m \u001b[0;31m##Showing off the path:\u001b[0m\u001b[0;34m\u001b[0m\u001b[0;34m\u001b[0m\u001b[0m\n\u001b[0;32m----> 2\u001b[0;31m \u001b[0mpwd\u001b[0m\u001b[0;34m\u001b[0m\u001b[0;34m\u001b[0m\u001b[0m\n\u001b[0m",
            "\u001b[0;31mNameError\u001b[0m: name 'pwd' is not defined"
          ]
        }
      ]
    },
    {
      "cell_type": "code",
      "source": [
        "myfile = open(\"myFile.txt\")"
      ],
      "metadata": {
        "id": "2ZwrYmPfoZAg"
      },
      "execution_count": null,
      "outputs": []
    },
    {
      "cell_type": "code",
      "source": [
        "myfile.read()"
      ],
      "metadata": {
        "id": "0eCc318ComY9"
      },
      "execution_count": null,
      "outputs": []
    },
    {
      "cell_type": "code",
      "source": [
        "myfile.read()"
      ],
      "metadata": {
        "id": "8oOpv2els284"
      },
      "execution_count": null,
      "outputs": []
    },
    {
      "cell_type": "code",
      "source": [
        "myfile.seek(0) #resets the cursor; navigatig back to the beginning"
      ],
      "metadata": {
        "id": "TzNb08iRs_aH"
      },
      "execution_count": null,
      "outputs": []
    },
    {
      "cell_type": "code",
      "source": [
        "contents = myfile.read() #Now we can read the file once more,"
      ],
      "metadata": {
        "id": "nSt6IVrstKDE"
      },
      "execution_count": null,
      "outputs": []
    },
    {
      "cell_type": "code",
      "source": [
        "contents"
      ],
      "metadata": {
        "id": "YP1dZ9q_tXRO"
      },
      "execution_count": null,
      "outputs": []
    },
    {
      "cell_type": "code",
      "source": [],
      "metadata": {
        "id": "ntbyfqyTtk6B"
      },
      "execution_count": null,
      "outputs": []
    },
    {
      "cell_type": "code",
      "source": [
        "myfile.readlines() #Separates the file; line by line."
      ],
      "metadata": {
        "id": "iRhnIcW2trbE"
      },
      "execution_count": null,
      "outputs": []
    },
    {
      "cell_type": "markdown",
      "source": [
        "##For Windows, the path is:\n",
        "myfile = open(\"C:\\\\Users\\\\USERNAME\\\\Folder\\\\test.txt\") ##Two slashes at the beginning\n",
        "\n",
        "##For MacOS and linux, th path is =\n",
        "\n",
        "myfile = open(\"/Users/Username/Folder/myfile.txt\") ##One slash at the beginning"
      ],
      "metadata": {
        "id": "tpxYwaJruBNr"
      }
    },
    {
      "cell_type": "code",
      "source": [
        "import os\n",
        "\n",
        "##Showing off the path:\n",
        "os.getcwd()"
      ],
      "metadata": {
        "id": "L-tqmELZukbZ"
      },
      "execution_count": null,
      "outputs": []
    },
    {
      "cell_type": "code",
      "source": [
        "myfile.close()\n"
      ],
      "metadata": {
        "id": "Bj8Swq1Tu8qN"
      },
      "execution_count": null,
      "outputs": []
    },
    {
      "cell_type": "code",
      "source": [],
      "metadata": {
        "id": "NIqntSh7vlOZ"
      },
      "execution_count": null,
      "outputs": []
    },
    {
      "cell_type": "code",
      "source": [
        "myfile = open(\"myFile.txt\")\n",
        "##Alternative using with key board:\n",
        "with open(\"myfile.txt\") as my_new_file:\n",
        "  contents = my_new_file.read()"
      ],
      "metadata": {
        "id": "hIq4KChRvCtp"
      },
      "execution_count": null,
      "outputs": []
    },
    {
      "cell_type": "code",
      "source": [
        "contents"
      ],
      "metadata": {
        "id": "lRn0KERHv9z2"
      },
      "execution_count": null,
      "outputs": []
    },
    {
      "cell_type": "code",
      "source": [
        "##Reading and writing to a file;\n",
        "with open(\"myfile.txt\", mode = \"r\") as myfile: ##switching to w; write mode; depending on what type of we have, we use write or read.\n",
        "  contents = myfile.read()                     ##Append (adding to files)"
      ],
      "metadata": {
        "id": "yOWvshuOwHml"
      },
      "execution_count": null,
      "outputs": []
    },
    {
      "cell_type": "markdown",
      "source": [
        "##Readin, Writing, Appending Modes:\n",
        "## \"r\" read only\n",
        "## \"w\" write only\n",
        "## \"a \" append only\n",
        "## \"r+\" is reading and writing\n",
        "## \"w+\" writing and reading\n"
      ],
      "metadata": {
        "id": "DG2BFPI3xcji"
      }
    },
    {
      "cell_type": "code",
      "source": [
        "\n",
        "%%writefile my_new_file1.0.txt\n",
        "ONE ON FIRST\n",
        "TWO ON SECOND\n",
        "THREE ON THIRD\n"
      ],
      "metadata": {
        "id": "WygjpUYQx9M-"
      },
      "execution_count": null,
      "outputs": []
    },
    {
      "cell_type": "code",
      "source": [
        "with open(\"my_new_file1.0.txt\", mode = \"r\") as f:\n",
        "  print(f.read()) ##Read mode."
      ],
      "metadata": {
        "id": "CvxYNV0Tw0DF"
      },
      "execution_count": null,
      "outputs": []
    },
    {
      "cell_type": "code",
      "source": [
        "with open(\"my_new_file.txt\", mode = \"a\") as f:\n",
        "  f.write(\"FOUR ON FOURTH\")"
      ],
      "metadata": {
        "id": "neeU5kOaWdLo"
      },
      "execution_count": null,
      "outputs": []
    },
    {
      "cell_type": "code",
      "source": [
        "with open(\"my_new_file.txt\", mode = \"r\") as f:\n",
        "  print(f.read())"
      ],
      "metadata": {
        "id": "EU8JDDgzXYUV"
      },
      "execution_count": null,
      "outputs": []
    },
    {
      "cell_type": "code",
      "source": [
        "myfile.seek(0)"
      ],
      "metadata": {
        "id": "nVp0u4F0X8Jf"
      },
      "execution_count": null,
      "outputs": []
    },
    {
      "cell_type": "code",
      "source": [
        "with open(\"isfihi.txt\", mode = \"w\") as f:\n",
        "  f.write(\"Icreated This File!\")\n",
        ""
      ],
      "metadata": {
        "id": "abZ_YXVwYJPR"
      },
      "execution_count": 27,
      "outputs": []
    }
  ]
}